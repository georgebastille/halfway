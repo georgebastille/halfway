{
 "cells": [
  {
   "cell_type": "code",
   "execution_count": 3,
   "id": "4d4cc1dc-1738-48f3-ac97-5cca04fa3a67",
   "metadata": {},
   "outputs": [
    {
     "name": "stdout",
     "output_type": "stream",
     "text": [
      "/home/richie/.cache/uv/archive-v0/1ZtaX71Qj6Bi-JQKgZagt/bin/python: No module named pip\n",
      "Note: you may need to restart the kernel to use updated packages.\n"
     ]
    }
   ],
   "source": [
    "%pip install pandas"
   ]
  },
  {
   "cell_type": "code",
   "execution_count": 1,
   "id": "9a2265a5-16b9-4f2d-9a21-e58da9a84927",
   "metadata": {},
   "outputs": [],
   "source": [
    "import requests\n",
    "from pprint import pprint\n",
    "import os\n",
    "import pandas as pd\n",
    "\n",
    "\n",
    "\n",
    "APP_ID = os.environ.get(\"TFL_APP_ID\")\n",
    "APP_ID = \"Halfway\"\n",
    "APP_KEY = os.environ.get(\"TFL_APP_KEY\")\n",
    "APP_KEY = \"21dbb2eeb688456e817278669ba2c9d4\"\n",
    "base_url = \"https://api.tfl.gov.uk\"\n",
    "\n",
    "\n",
    "def fetch_tfl_data(endpoint, params=None):\n",
    "    url = f\"{base_url}{endpoint}\"\n",
    "    params = params or {}\n",
    "    params.update({\"app_id\": APP_ID, \"app_key\": APP_KEY})\n",
    "\n",
    "    try:\n",
    "        response = requests.get(url, params=params, timeout=15)\n",
    "        response.raise_for_status()\n",
    "        return response.json()\n",
    "    except requests.exceptions.HTTPError as e:\n",
    "        print(f\"\\nHTTP Error {response.status_code}: {response.text}\")\n",
    "        return None\n",
    "    except Exception as e:\n",
    "        print(f\"\\nError fetching {url}: {str(e)}\")\n",
    "        return None"
   ]
  },
  {
   "cell_type": "markdown",
   "id": "b7e48452-4a73-49c0-9535-5343959f7904",
   "metadata": {},
   "source": [
    "# Constructing the TFL network as a Graph\n",
    "### Steps\n",
    "1. Decide on the list of transport modes you want and ensure they are supported\n",
    "2. For each mode, get the list of lines (e.g. tube, victoria)\n",
    "3. For each line, get the ordered list of stations that serve that line, name + id\n",
    "4. For each station+line, construct a node_id and save these nodes\n",
    "5. From the ordered list of stations, construct a set of same line edges, one station apart\n",
    "6. For each station, append the lines it serves, and construct interstation edges\n",
    "7. For the interline edges, query tfl for the times to get from each station to the next\n",
    "8. For the interstation egdes, identify a method for determining the transition time (one idea, try a query for one station before and one after on each side, and subtract the known train times to that station.\n",
    "9. Construct the graph with our nodes and edges\n",
    "10. Run Dijkstra and get all node->node times\n",
    "11. Collapse routes with multipe platforms to the minimum distance.\n",
    "12. YUUU$$$"
   ]
  },
  {
   "cell_type": "code",
   "execution_count": 2,
   "id": "418a4dd4-b523-4849-ac82-7f066bb8cf04",
   "metadata": {
    "scrolled": true
   },
   "outputs": [
    {
     "name": "stdout",
     "output_type": "stream",
     "text": [
      "bus\n",
      "cable-car\n",
      "coach\n",
      "cycle\n",
      "cycle-hire\n",
      "dlr\n",
      "elizabeth-line\n",
      "interchange-keep-sitting\n",
      "interchange-secure\n",
      "national-rail\n",
      "overground\n",
      "replacement-bus\n",
      "river-bus\n",
      "river-tour\n",
      "taxi\n",
      "tram\n",
      "tube\n",
      "walking\n"
     ]
    }
   ],
   "source": [
    "all_modes = fetch_tfl_data(\"/Line/Meta/Modes\")\n",
    "for mode in all_modes:\n",
    "    print(mode[\"modeName\"])\n"
   ]
  },
  {
   "cell_type": "code",
   "execution_count": 3,
   "id": "b45a5546-45ed-47c0-a236-42b2fe9bc4f0",
   "metadata": {},
   "outputs": [],
   "source": [
    "modes = [\"tube\", \"overground\", \"dlr\", \"elizabeth-line\", \"tram\"]\n",
    "lines = fetch_tfl_data(\"/Line/Mode/\" + \",\".join(modes))"
   ]
  },
  {
   "cell_type": "code",
   "execution_count": 5,
   "id": "73321c6e-53cd-4079-8fa7-5191e88ab980",
   "metadata": {},
   "outputs": [
    {
     "name": "stdout",
     "output_type": "stream",
     "text": [
      "             line_name           line_id\n",
      "0             Bakerloo          bakerloo\n",
      "1              Central           central\n",
      "2               Circle            circle\n",
      "3             District          district\n",
      "4                  DLR               dlr\n",
      "5       Elizabeth line         elizabeth\n",
      "6   Hammersmith & City  hammersmith-city\n",
      "7              Jubilee           jubilee\n",
      "8              Liberty           liberty\n",
      "9              Lioness           lioness\n",
      "10        Metropolitan      metropolitan\n",
      "11             Mildmay           mildmay\n",
      "12            Northern          northern\n",
      "13          Piccadilly        piccadilly\n",
      "14         Suffragette       suffragette\n",
      "15                Tram              tram\n",
      "16            Victoria          victoria\n",
      "17     Waterloo & City     waterloo-city\n",
      "18              Weaver            weaver\n",
      "19            Windrush          windrush\n"
     ]
    }
   ],
   "source": [
    "line_ids = []\n",
    "lines_ld = []\n",
    "for line in lines:\n",
    "    #print(line[\"id\"], line[\"name\"], line[\"modeName\"])\n",
    "    line_ids.append(line[\"id\"])\n",
    "    line_d = {}\n",
    "    line_d[\"line_name\"] = line[\"name\"]\n",
    "    line_d[\"line_id\"] = line[\"id\"]\n",
    "    lines_ld.append(line_d)\n",
    "\n",
    "df = pd.DataFrame(lines_ld)\n",
    "print(df)\n"
   ]
  },
  {
   "cell_type": "code",
   "execution_count": 6,
   "id": "ed6c0b3f-5fbb-4d7c-be4e-51f27539c7e1",
   "metadata": {
    "scrolled": true
   },
   "outputs": [
    {
     "data": {
      "text/html": [
       "<div>\n",
       "<style scoped>\n",
       "    .dataframe tbody tr th:only-of-type {\n",
       "        vertical-align: middle;\n",
       "    }\n",
       "\n",
       "    .dataframe tbody tr th {\n",
       "        vertical-align: top;\n",
       "    }\n",
       "\n",
       "    .dataframe thead th {\n",
       "        text-align: right;\n",
       "    }\n",
       "</style>\n",
       "<table border=\"1\" class=\"dataframe\">\n",
       "  <thead>\n",
       "    <tr style=\"text-align: right;\">\n",
       "      <th></th>\n",
       "      <th>station_id</th>\n",
       "      <th>station_name</th>\n",
       "      <th>station_line</th>\n",
       "    </tr>\n",
       "  </thead>\n",
       "  <tbody>\n",
       "    <tr>\n",
       "      <th>0</th>\n",
       "      <td>940GZZLUBST</td>\n",
       "      <td>Baker Street Underground Station</td>\n",
       "      <td>bakerloo</td>\n",
       "    </tr>\n",
       "    <tr>\n",
       "      <th>1</th>\n",
       "      <td>940GZZLUCHX</td>\n",
       "      <td>Charing Cross Underground Station</td>\n",
       "      <td>bakerloo</td>\n",
       "    </tr>\n",
       "    <tr>\n",
       "      <th>2</th>\n",
       "      <td>940GZZLUEAC</td>\n",
       "      <td>Elephant &amp; Castle Underground Station</td>\n",
       "      <td>bakerloo</td>\n",
       "    </tr>\n",
       "    <tr>\n",
       "      <th>3</th>\n",
       "      <td>940GZZLUEMB</td>\n",
       "      <td>Embankment Underground Station</td>\n",
       "      <td>bakerloo</td>\n",
       "    </tr>\n",
       "    <tr>\n",
       "      <th>4</th>\n",
       "      <td>940GZZLUERB</td>\n",
       "      <td>Edgware Road (Bakerloo) Underground Station</td>\n",
       "      <td>bakerloo</td>\n",
       "    </tr>\n",
       "  </tbody>\n",
       "</table>\n",
       "</div>"
      ],
      "text/plain": [
       "    station_id                                 station_name station_line\n",
       "0  940GZZLUBST             Baker Street Underground Station     bakerloo\n",
       "1  940GZZLUCHX            Charing Cross Underground Station     bakerloo\n",
       "2  940GZZLUEAC        Elephant & Castle Underground Station     bakerloo\n",
       "3  940GZZLUEMB               Embankment Underground Station     bakerloo\n",
       "4  940GZZLUERB  Edgware Road (Bakerloo) Underground Station     bakerloo"
      ]
     },
     "execution_count": 6,
     "metadata": {},
     "output_type": "execute_result"
    }
   ],
   "source": [
    "station_id = {}\n",
    "station_dict = []\n",
    "\n",
    "for line_id in line_ids:\n",
    "    stops = fetch_tfl_data(f\"/Line/{line_id}/StopPoints?tflOperatedNationalRailStationsOnly=false\")\n",
    "    #print(stops[0].keys())\n",
    "    #pprint(stops[1], depth=1, compact=True)\n",
    "    #print(\"\\n\\n\")\n",
    "    #pprint(stops[0][\"children\"])\n",
    "    for stop in stops:\n",
    "        name = stop[\"commonName\"]\n",
    "        naptanId = stop[\"naptanId\"]\n",
    "        #print(f\"{naptanId}: {name} - {line_id}\")\n",
    "        station_id[naptanId] = name\n",
    "        station = {}\n",
    "        station[\"station_id\"] = naptanId\n",
    "        station[\"station_name\"] = name\n",
    "        station[\"station_line\"] = line_id\n",
    "        station_dict.append(station)\n",
    "df = pd.DataFrame(station_dict)\n",
    "df.head()"
   ]
  },
  {
   "cell_type": "code",
   "execution_count": 12,
   "id": "c9440dab-82ff-4b81-8c9a-727785bad4c0",
   "metadata": {
    "scrolled": true
   },
   "outputs": [
    {
     "name": "stdout",
     "output_type": "stream",
     "text": [
      "{'$type': 'Tfl.Api.Presentation.Entities.RouteSequence, '\n",
      "          'Tfl.Api.Presentation.Entities',\n",
      " 'direction': 'outbound',\n",
      " 'isOutboundOnly': False,\n",
      " 'lineId': 'elizabeth',\n",
      " 'lineName': 'Elizabeth line',\n",
      " 'lineStrings': [...],\n",
      " 'mode': 'elizabeth-line',\n",
      " 'orderedLineRoutes': [...],\n",
      " 'stations': [...],\n",
      " 'stopPointSequences': [...]}\n"
     ]
    }
   ],
   "source": [
    "id = \"elizabeth\"\n",
    "direction = \"outbound\"\n",
    "stops = fetch_tfl_data(f\"/Line/{id}/Route/Sequence/{direction}\")\n",
    "pprint(stops, depth=1, compact=True)"
   ]
  },
  {
   "cell_type": "code",
   "execution_count": 13,
   "id": "4d38a7da-d7c9-43fb-93f0-349bceea0585",
   "metadata": {},
   "outputs": [
    {
     "name": "stdout",
     "output_type": "stream",
     "text": [
      "elizabeth: 910GABWDXR-Abbey Wood\n",
      "elizabeth: 910GWOLWXR-Woolwich\n",
      "elizabeth: 910GCSTMHSXR-Custom House\n",
      "elizabeth: 910GCANWHRF-Canary Wharf\n",
      "elizabeth: 910GWCHAPXR-Whitechapel\n",
      "elizabeth: 910GLIVSTLL-Liverpool Street\n",
      "elizabeth: 910GFRNDXR-Farringdon\n",
      "elizabeth: 910GTOTCTRD-Tottenham Court Road\n",
      "elizabeth: 910GBONDST-Bond Street\n",
      "elizabeth: 910GPADTLL-Paddington\n",
      "elizabeth: 910GACTONML-Acton Main Line Rail Station\n",
      "elizabeth: 910GEALINGB-Ealing Broadway Rail Station\n",
      "elizabeth: 910GWEALING-West Ealing Rail Station\n",
      "elizabeth: 910GHANWELL-Hanwell Rail Station\n",
      "elizabeth: 910GSTHALL-Southall Rail Station\n",
      "elizabeth: 910GHAYESAH-Hayes & Harlington Rail Station\n",
      "elizabeth: 910GHTRWAPT-Heathrow Terminals 2 & 3 Rail Station\n",
      "elizabeth: 910GHTRWTM4-Heathrow Terminal 4 Rail Station\n"
     ]
    }
   ],
   "source": [
    "route_stations = []\n",
    "\n",
    "for station in stops[\"orderedLineRoutes\"][0][\"naptanIds\"]: # Routes with variations have multiple  entries here\n",
    "    print(f\"{id}: {station}-{station_id[station]}\")\n",
    "    route_stations.append(f\"{station}-{id}\")"
   ]
  },
  {
   "cell_type": "code",
   "execution_count": 14,
   "id": "d7fba57b-2f82-4e51-bb55-1364dfc53e75",
   "metadata": {},
   "outputs": [
    {
     "name": "stdout",
     "output_type": "stream",
     "text": [
      "['910GABWDXR-elizabeth', '910GWOLWXR-elizabeth', '910GCSTMHSXR-elizabeth', '910GCANWHRF-elizabeth', '910GWCHAPXR-elizabeth', '910GLIVSTLL-elizabeth', '910GFRNDXR-elizabeth', '910GTOTCTRD-elizabeth', '910GBONDST-elizabeth', '910GPADTLL-elizabeth', '910GACTONML-elizabeth', '910GEALINGB-elizabeth', '910GWEALING-elizabeth', '910GHANWELL-elizabeth', '910GSTHALL-elizabeth', '910GHAYESAH-elizabeth', '910GHTRWAPT-elizabeth', '910GHTRWTM4-elizabeth']\n"
     ]
    }
   ],
   "source": [
    "print(route_stations)"
   ]
  },
  {
   "cell_type": "code",
   "execution_count": 15,
   "id": "60feba52-dbe2-484e-a6b1-14a5885ed4bd",
   "metadata": {},
   "outputs": [
    {
     "name": "stdout",
     "output_type": "stream",
     "text": [
      "910GABWDXR-elizabeth 910GWOLWXR-elizabeth\n",
      "910GWOLWXR-elizabeth 910GCSTMHSXR-elizabeth\n",
      "910GCSTMHSXR-elizabeth 910GCANWHRF-elizabeth\n",
      "910GCANWHRF-elizabeth 910GWCHAPXR-elizabeth\n",
      "910GWCHAPXR-elizabeth 910GLIVSTLL-elizabeth\n",
      "910GLIVSTLL-elizabeth 910GFRNDXR-elizabeth\n",
      "910GFRNDXR-elizabeth 910GTOTCTRD-elizabeth\n",
      "910GTOTCTRD-elizabeth 910GBONDST-elizabeth\n",
      "910GBONDST-elizabeth 910GPADTLL-elizabeth\n",
      "910GPADTLL-elizabeth 910GACTONML-elizabeth\n",
      "910GACTONML-elizabeth 910GEALINGB-elizabeth\n",
      "910GEALINGB-elizabeth 910GWEALING-elizabeth\n",
      "910GWEALING-elizabeth 910GHANWELL-elizabeth\n",
      "910GHANWELL-elizabeth 910GSTHALL-elizabeth\n",
      "910GSTHALL-elizabeth 910GHAYESAH-elizabeth\n",
      "910GHAYESAH-elizabeth 910GHTRWAPT-elizabeth\n",
      "910GHTRWAPT-elizabeth 910GHTRWTM4-elizabeth\n"
     ]
    }
   ],
   "source": [
    "for x,y in zip(route_stations, route_stations[1:]):\n",
    "    print(x, y)"
   ]
  },
  {
   "cell_type": "code",
   "execution_count": 8,
   "id": "27c4333b-6e57-437e-9290-22aae4d1024b",
   "metadata": {
    "scrolled": true
   },
   "outputs": [
    {
     "name": "stdout",
     "output_type": "stream",
     "text": [
      "{'$type': 'Tfl.Api.Presentation.Entities.OrderedRoute, '\n",
      "          'Tfl.Api.Presentation.Entities',\n",
      " 'name': 'Abbey Wood &harr;  Heathrow Terminal 4 ',\n",
      " 'naptanIds': ['910GABWDXR', '910GWOLWXR', '910GCSTMHSXR', '910GCANWHRF',\n",
      "               '910GWCHAPXR', '910GLIVSTLL', '910GFRNDXR', '910GTOTCTRD',\n",
      "               '910GBONDST', '910GPADTLL', '910GACTONML', '910GEALINGB',\n",
      "               '910GWEALING', '910GHANWELL', '910GSTHALL', '910GHAYESAH',\n",
      "               '910GHTRWAPT', '910GHTRWTM4'],\n",
      " 'serviceType': 'Regular'}\n"
     ]
    }
   ],
   "source": [
    "#pprint(stops, depth=1, compact=True)\n",
    "pprint(stops[\"orderedLineRoutes\"][0], depth=2, compact=True)\n",
    "route_stops = stops[\"orderedLineRoutes\"][0][\"naptanIds\"]"
   ]
  },
  {
   "cell_type": "code",
   "execution_count": 9,
   "id": "20e599b8-c9c6-4f52-8a12-3bd9bc19f591",
   "metadata": {},
   "outputs": [],
   "source": [
    "id = \"elizabeth\"\n",
    "fromStopPointId = \"910GPADTLL\"\n",
    "toStopPointId = \"910GHTRWTM4\"\n",
    "\n",
    "timetable = fetch_tfl_data(f\"/Line/{id}/Timetable/{fromStopPointId}/to/{toStopPointId}\")"
   ]
  },
  {
   "cell_type": "code",
   "execution_count": 10,
   "id": "35b45064-d729-4230-93d3-09cae2549345",
   "metadata": {},
   "outputs": [
    {
     "name": "stdout",
     "output_type": "stream",
     "text": [
      "910GABWDXR->910GWOLWXR=3\n",
      "910GWOLWXR->910GCSTMHSXR=4\n",
      "910GCSTMHSXR->910GCANWHRF=4\n",
      "910GCANWHRF->910GWCHAPXR=4\n",
      "910GWCHAPXR->910GLIVSTLL=3\n",
      "910GLIVSTLL->910GFRNDXR=2\n",
      "910GFRNDXR->910GTOTCTRD=2\n",
      "910GTOTCTRD->910GBONDST=2\n",
      "910GBONDST->910GPADTLL=4\n",
      "910GPADTLL->910GACTONML=6\n",
      "910GACTONML->910GEALINGB=3\n",
      "910GEALINGB->910GWEALING=2\n",
      "910GWEALING->910GHANWELL=2\n",
      "910GHANWELL->910GSTHALL=3\n",
      "910GSTHALL->910GHAYESAH=3\n",
      "910GHAYESAH->910GHTRWAPT=7\n",
      "910GHTRWAPT->910GHTRWTM4=5\n"
     ]
    }
   ],
   "source": [
    "id = \"elizabeth\"\n",
    "from_ = \"910GABWDXR\"\n",
    "to_ = \"910GWOLWXR\"\n",
    "\n",
    "for from_, to_ in zip(route_stops, route_stops[1:]):\n",
    "    timetable = fetch_tfl_data(f\"/Journey/JourneyResults/{from_}/to/{to_}?useRealTimeLiveArrivals=false\")\n",
    "    durations = []\n",
    "    for journey in timetable[\"journeys\"]:\n",
    "        durations.append(journey[\"duration\"])\n",
    "    print(f\"{from_}->{to_}={min(durations)}\")\n",
    "\n",
    "\n",
    "\n"
   ]
  },
  {
   "cell_type": "code",
   "execution_count": 11,
   "id": "9684e882-8564-4870-8823-2fd9b9331990",
   "metadata": {},
   "outputs": [
    {
     "name": "stdout",
     "output_type": "stream",
     "text": [
      "910GABWDXR->910GWOLWXR=3\n",
      "910GWOLWXR->910GCSTMHSXR=4\n",
      "910GCSTMHSXR->910GCANWHRF=4\n",
      "910GCANWHRF->910GWCHAPXR=4\n",
      "910GWCHAPXR->910GLIVSTLL=3\n",
      "910GLIVSTLL->910GFRNDXR=2\n",
      "910GFRNDXR->910GTOTCTRD=2\n",
      "910GTOTCTRD->910GBONDST=2\n",
      "910GBONDST->910GPADTLL=4\n",
      "910GPADTLL->910GACTONML=6\n",
      "910GACTONML->910GEALINGB=3\n",
      "910GEALINGB->910GWEALING=2\n",
      "910GWEALING->910GHANWELL=2\n",
      "910GHANWELL->910GSTHALL=3\n",
      "910GSTHALL->910GHAYESAH=3\n",
      "910GHAYESAH->910GHTRWAPT=7\n",
      "910GHTRWAPT->910GHTRWTM4=5\n"
     ]
    }
   ],
   "source": [
    "id = \"elizabeth\"\n",
    "from_ = \"910GABWDXR\"\n",
    "to_ = \"910GWOLWXR\"\n",
    "\n",
    "for from_, to_ in zip(route_stops, route_stops[1:]):\n",
    "    timetable = fetch_tfl_data(f\"/Journey/JourneyResults/{from_}/to/{to_}?useRealTimeLiveArrivals=false\")\n",
    "    durations = []\n",
    "    for journey in timetable[\"journeys\"]:\n",
    "        durations.append(journey[\"duration\"])\n",
    "    print(f\"{from_}->{to_}={min(durations)}\")\n",
    "\n",
    "\n",
    "\n"
   ]
  },
  {
   "cell_type": "code",
   "execution_count": 12,
   "id": "2c828267-87af-48df-a43a-ede5476b6a22",
   "metadata": {
    "scrolled": true
   },
   "outputs": [
    {
     "name": "stdout",
     "output_type": "stream",
     "text": [
      "{'$type': 'Tfl.Api.Presentation.Entities.JourneyPlanner.ItineraryResult, '\n",
      "          'Tfl.Api.Presentation.Entities',\n",
      " 'journeyVector': {'$type': 'Tfl.Api.Presentation.Entities.JourneyPlanner.JourneyVector, '\n",
      "                            'Tfl.Api.Presentation.Entities',\n",
      "                   'from': '1001147',\n",
      "                   'to': '1000104',\n",
      "                   'uri': '/journey/journeyresults/910ghtrwapt/to/910ghtrwtm4?userealtimelivearrivals=false&app_id=halfway&app_key=21dbb2eeb688456e817278669ba2c9d4',\n",
      "                   'via': ''},\n",
      " 'journeys': [{'$type': 'Tfl.Api.Presentation.Entities.JourneyPlanner.Journey, '\n",
      "                        'Tfl.Api.Presentation.Entities',\n",
      "               'alternativeRoute': False,\n",
      "               'arrivalDateTime': '2025-02-12T15:12:00',\n",
      "               'duration': 5,\n",
      "               'fare': {...},\n",
      "               'legs': [...],\n",
      "               'startDateTime': '2025-02-12T15:07:00'},\n",
      "              {'$type': 'Tfl.Api.Presentation.Entities.JourneyPlanner.Journey, '\n",
      "                        'Tfl.Api.Presentation.Entities',\n",
      "               'alternativeRoute': False,\n",
      "               'arrivalDateTime': '2025-02-12T15:27:00',\n",
      "               'duration': 5,\n",
      "               'fare': {...},\n",
      "               'legs': [...],\n",
      "               'startDateTime': '2025-02-12T15:22:00'},\n",
      "              {'$type': 'Tfl.Api.Presentation.Entities.JourneyPlanner.Journey, '\n",
      "                        'Tfl.Api.Presentation.Entities',\n",
      "               'alternativeRoute': False,\n",
      "               'arrivalDateTime': '2025-02-12T15:39:00',\n",
      "               'duration': 12,\n",
      "               'fare': {...},\n",
      "               'legs': [...],\n",
      "               'startDateTime': '2025-02-12T15:27:00'},\n",
      "              {'$type': 'Tfl.Api.Presentation.Entities.JourneyPlanner.Journey, '\n",
      "                        'Tfl.Api.Presentation.Entities',\n",
      "               'alternativeRoute': False,\n",
      "               'arrivalDateTime': '2025-02-12T15:51:00',\n",
      "               'duration': 47,\n",
      "               'legs': [...],\n",
      "               'startDateTime': '2025-02-12T15:04:00'}],\n",
      " 'lines': [{'$type': 'Tfl.Api.Presentation.Entities.Line, '\n",
      "                     'Tfl.Api.Presentation.Entities',\n",
      "            'created': '2025-02-06T09:58:47.4Z',\n",
      "            'crowding': {...},\n",
      "            'disruptions': [],\n",
      "            'id': 'elizabeth',\n",
      "            'lineStatuses': [...],\n",
      "            'modeName': 'elizabeth-line',\n",
      "            'modified': '2025-02-06T09:58:47.4Z',\n",
      "            'name': 'Elizabeth line',\n",
      "            'routeSections': [],\n",
      "            'serviceTypes': [...]},\n",
      "           {'$type': 'Tfl.Api.Presentation.Entities.Line, '\n",
      "                     'Tfl.Api.Presentation.Entities',\n",
      "            'created': '2025-02-06T09:58:47.4Z',\n",
      "            'crowding': {...},\n",
      "            'disruptions': [],\n",
      "            'id': 'piccadilly',\n",
      "            'lineStatuses': [...],\n",
      "            'modeName': 'tube',\n",
      "            'modified': '2025-02-06T09:58:47.4Z',\n",
      "            'name': 'Piccadilly',\n",
      "            'routeSections': [],\n",
      "            'serviceTypes': [...]}],\n",
      " 'recommendedMaxAgeMinutes': 3,\n",
      " 'searchCriteria': {'$type': 'Tfl.Api.Presentation.Entities.JourneyPlanner.SearchCriteria, '\n",
      "                             'Tfl.Api.Presentation.Entities',\n",
      "                    'dateTime': '2025-02-12T15:04:00',\n",
      "                    'dateTimeType': 'Departing',\n",
      "                    'timeAdjustments': {'$type': 'Tfl.Api.Presentation.Entities.JourneyPlanner.TimeAdjustments, '\n",
      "                                                 'Tfl.Api.Presentation.Entities',\n",
      "                                        'earlier': {...},\n",
      "                                        'earliest': {...},\n",
      "                                        'later': {...},\n",
      "                                        'latest': {...}}},\n",
      " 'stopMessages': []}\n"
     ]
    }
   ],
   "source": [
    "pprint(timetable, depth=3)"
   ]
  },
  {
   "cell_type": "code",
   "execution_count": 13,
   "id": "59eda381-e1a6-41d8-b506-1e9ccf356539",
   "metadata": {
    "scrolled": true
   },
   "outputs": [
    {
     "ename": "KeyError",
     "evalue": "'timetable'",
     "output_type": "error",
     "traceback": [
      "\u001b[0;31m---------------------------------------------------------------------------\u001b[0m",
      "\u001b[0;31mKeyError\u001b[0m                                  Traceback (most recent call last)",
      "Cell \u001b[0;32mIn[13], line 1\u001b[0m\n\u001b[0;32m----> 1\u001b[0m pprint(\u001b[43mtimetable\u001b[49m\u001b[43m[\u001b[49m\u001b[38;5;124;43m\"\u001b[39;49m\u001b[38;5;124;43mtimetable\u001b[39;49m\u001b[38;5;124;43m\"\u001b[39;49m\u001b[43m]\u001b[49m[\u001b[38;5;124m\"\u001b[39m\u001b[38;5;124mroutes\u001b[39m\u001b[38;5;124m\"\u001b[39m][\u001b[38;5;241m0\u001b[39m][\u001b[38;5;124m\"\u001b[39m\u001b[38;5;124mschedules\u001b[39m\u001b[38;5;124m\"\u001b[39m][\u001b[38;5;241m0\u001b[39m]) \u001b[38;5;66;03m# periods/frequency\u001b[39;00m\n\u001b[1;32m      2\u001b[0m \u001b[38;5;66;03m# https://api-portal.tfl.gov.uk/api-details#api=Line&operation=Line_TimetableByPathFromStopPointIdPathId\u001b[39;00m\n",
      "\u001b[0;31mKeyError\u001b[0m: 'timetable'"
     ]
    }
   ],
   "source": [
    "pprint(timetable[\"timetable\"][\"routes\"][0][\"schedules\"][0]) # periods/frequency\n",
    "# https://api-portal.tfl.gov.uk/api-details#api=Line&operation=Line_TimetableByPathFromStopPointIdPathId"
   ]
  },
  {
   "cell_type": "code",
   "execution_count": null,
   "id": "5506fe27-8161-4016-bfca-77854cd66892",
   "metadata": {
    "scrolled": true
   },
   "outputs": [],
   "source": [
    "pprint(timetable[\"timetable\"][\"routes\"][0][\"schedules\"][0][\"periods\"][1][\"frequency\"][\"highestFrequency\"]) # periods/frequency\n",
    "pprint(timetable[\"timetable\"][\"routes\"][0][\"schedules\"][0][\"periods\"][1][\"frequency\"][\"lowestFrequency\"]) # periods/frequency\n",
    "\n",
    "# https://api-portal.tfl.gov.uk/api-details#api=Line&operation=Line_TimetableByPathFromStopPointIdPathId"
   ]
  },
  {
   "cell_type": "code",
   "execution_count": null,
   "id": "3d0bb565-be4d-4ca3-98e6-574c470297b1",
   "metadata": {
    "scrolled": true
   },
   "outputs": [],
   "source": [
    "\n",
    "def time_from_journey(journey):\n",
    "    return int(journey[\"hour\"]) * 60 + int(journey[\"minute\"])\n",
    "    \n",
    "first = timetable[\"timetable\"][\"routes\"][0][\"schedules\"][0][\"firstJourney\"]\n",
    "first_time = time_from_journey(first)\n",
    "for schedule in timetable[\"timetable\"][\"routes\"][0][\"schedules\"][0][\"knownJourneys\"][1:]:\n",
    "    next_time = time_from_journey(schedule)\n",
    "    print(f\"Time between Trains = {next_time - first_time} mins\")\n",
    "    first_time = next_time\n",
    "\n",
    "    "
   ]
  },
  {
   "cell_type": "code",
   "execution_count": null,
   "id": "2551bde6-97d0-464f-b36f-2de78f850d53",
   "metadata": {
    "scrolled": true
   },
   "outputs": [],
   "source": [
    "pprint(timetable[\"timetable\"][\"routes\"][0][\"stationIntervals\"], depth=2)"
   ]
  },
  {
   "cell_type": "code",
   "execution_count": null,
   "id": "a9198820-acb3-4739-b343-ca17c8a0b767",
   "metadata": {},
   "outputs": [],
   "source": [
    "for stop in timetable[\"timetable\"][\"routes\"][0][\"stationIntervals\"][0][\"intervals\"]:\n",
    "    name = station_id[stop[\"stopId\"]]\n",
    "    arrivalTime = stop[\"timeToArrival\"]\n",
    "    print(f\"{name}: {arrivalTime}\") # Why are there 2 for almost all stations?"
   ]
  },
  {
   "cell_type": "code",
   "execution_count": null,
   "id": "8fdd0c6e-7039-49ca-ac8f-fcd0470c687c",
   "metadata": {},
   "outputs": [],
   "source": [
    "for stop in timetable[\"timetable\"][\"routes\"][0][\"stationIntervals\"][1][\"intervals\"]:\n",
    "    name = station_id[stop[\"stopId\"]]\n",
    "    arrivalTime = stop[\"timeToArrival\"]\n",
    "    print(f\"{name}: {arrivalTime}\") # Why are there 2 for almost all stations?"
   ]
  },
  {
   "cell_type": "code",
   "execution_count": null,
   "id": "cff272af-c859-4631-909d-75c9ffe55a37",
   "metadata": {},
   "outputs": [],
   "source": []
  },
  {
   "cell_type": "code",
   "execution_count": null,
   "id": "26df1343-7dd0-45fd-a922-ace021992f6c",
   "metadata": {},
   "outputs": [],
   "source": []
  },
  {
   "cell_type": "code",
   "execution_count": null,
   "id": "35f78bb5-22ea-4478-ab1a-a8e0dbe1c380",
   "metadata": {
    "scrolled": true
   },
   "outputs": [],
   "source": []
  }
 ],
 "metadata": {
  "kernelspec": {
   "display_name": "Python 3 (ipykernel)",
   "language": "python",
   "name": "python3"
  },
  "language_info": {
   "codemirror_mode": {
    "name": "ipython",
    "version": 3
   },
   "file_extension": ".py",
   "mimetype": "text/x-python",
   "name": "python",
   "nbconvert_exporter": "python",
   "pygments_lexer": "ipython3",
   "version": "3.13.1"
  }
 },
 "nbformat": 4,
 "nbformat_minor": 5
}
