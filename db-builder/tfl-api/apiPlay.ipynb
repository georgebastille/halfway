{
 "cells": [
  {
   "cell_type": "code",
   "execution_count": 1,
   "id": "9a2265a5-16b9-4f2d-9a21-e58da9a84927",
   "metadata": {},
   "outputs": [],
   "source": [
    "import requests\n",
    "from pprint import pprint\n",
    "import os\n",
    "\n",
    "\n",
    "\n",
    "APP_ID = os.environ.get[\"TFL_APP_ID\"]\n",
    "APP_KEY = os.environ.get[\"TFL_APP_KEY\"]\n",
    "base_url = \"https://api.tfl.gov.uk\"\n",
    "\n",
    "\n",
    "def fetch_tfl_data(endpoint, params=None):\n",
    "    url = f\"{base_url}{endpoint}\"\n",
    "    params = params or {}\n",
    "    params.update({\"app_id\": APP_ID, \"app_key\": APP_KEY})\n",
    "\n",
    "    try:\n",
    "        response = requests.get(url, params=params, timeout=15)\n",
    "        response.raise_for_status()\n",
    "        return response.json()\n",
    "    except requests.exceptions.HTTPError as e:\n",
    "        print(f\"\\nHTTP Error {response.status_code}: {response.text}\")\n",
    "        return None\n",
    "    except Exception as e:\n",
    "        print(f\"\\nError fetching {url}: {str(e)}\")\n",
    "        return None"
   ]
  },
  {
   "cell_type": "code",
   "execution_count": 2,
   "id": "b45a5546-45ed-47c0-a236-42b2fe9bc4f0",
   "metadata": {},
   "outputs": [],
   "source": [
    "modes = [\"tube\", \"overground\", \"dlr\", \"elizabeth-line\"]\n",
    "lines = fetch_tfl_data(\"/Line/Mode/\" + \",\".join(modes))"
   ]
  },
  {
   "cell_type": "code",
   "execution_count": 4,
   "id": "73321c6e-53cd-4079-8fa7-5191e88ab980",
   "metadata": {},
   "outputs": [
    {
     "name": "stdout",
     "output_type": "stream",
     "text": [
      "bakerloo Bakerloo tube\n",
      "central Central tube\n",
      "circle Circle tube\n",
      "district District tube\n",
      "dlr DLR dlr\n",
      "elizabeth Elizabeth line elizabeth-line\n",
      "hammersmith-city Hammersmith & City tube\n",
      "jubilee Jubilee tube\n",
      "liberty Liberty overground\n",
      "lioness Lioness overground\n",
      "metropolitan Metropolitan tube\n",
      "mildmay Mildmay overground\n",
      "northern Northern tube\n",
      "piccadilly Piccadilly tube\n",
      "suffragette Suffragette overground\n",
      "victoria Victoria tube\n",
      "waterloo-city Waterloo & City tube\n",
      "weaver Weaver overground\n",
      "windrush Windrush overground\n"
     ]
    }
   ],
   "source": [
    "line_ids = []\n",
    "for line in lines:\n",
    "    print(line[\"id\"], line[\"name\"], line[\"modeName\"])\n",
    "    line_ids.append(line[\"id\"])\n"
   ]
  },
  {
   "cell_type": "code",
   "execution_count": 15,
   "id": "ed6c0b3f-5fbb-4d7c-be4e-51f27539c7e1",
   "metadata": {},
   "outputs": [
    {
     "name": "stdout",
     "output_type": "stream",
     "text": [
      "{'$type': 'Tfl.Api.Presentation.Entities.StopPoint, '\n",
      "          'Tfl.Api.Presentation.Entities',\n",
      " 'additionalProperties': [...],\n",
      " 'children': [...],\n",
      " 'commonName': 'Baker Street Underground Station',\n",
      " 'icsCode': '1000011',\n",
      " 'id': '940GZZLUBST',\n",
      " 'lat': 51.522883,\n",
      " 'lineGroup': [...],\n",
      " 'lineModeGroups': [...],\n",
      " 'lines': [...],\n",
      " 'lon': -0.15713,\n",
      " 'modes': [...],\n",
      " 'naptanId': '940GZZLUBST',\n",
      " 'placeType': 'StopPoint',\n",
      " 'stationNaptan': '940GZZLUBST',\n",
      " 'status': True,\n",
      " 'stopType': 'NaptanMetroStation'}\n",
      "[{'$type': 'Tfl.Api.Presentation.Entities.LineGroup, '\n",
      "           'Tfl.Api.Presentation.Entities',\n",
      "  'lineIdentifier': [...],\n",
      "  'stationAtcoCode': '940GZZLUBST'},\n",
      " {'$type': 'Tfl.Api.Presentation.Entities.LineGroup, '\n",
      "           'Tfl.Api.Presentation.Entities',\n",
      "  'lineIdentifier': [...],\n",
      "  'stationAtcoCode': '940GZZLUBST'},\n",
      " {'$type': 'Tfl.Api.Presentation.Entities.LineGroup, '\n",
      "           'Tfl.Api.Presentation.Entities',\n",
      "  'lineIdentifier': [...],\n",
      "  'stationAtcoCode': '940GZZLUBST'},\n",
      " {'$type': 'Tfl.Api.Presentation.Entities.LineGroup, '\n",
      "           'Tfl.Api.Presentation.Entities',\n",
      "  'lineIdentifier': [...],\n",
      "  'stationAtcoCode': '940GZZLUBST'}]\n"
     ]
    }
   ],
   "source": [
    "for line_id in line_ids:\n",
    "    stops = fetch_tfl_data(f\"/Line/{line_id}/StopPoints\")\n",
    "    #print(stops[0].keys())\n",
    "    pprint(stops[0], depth=1, compact=True)\n",
    "    pprint(stops[0][\"lineGroup\"], depth=2, compact=True)\n",
    "\n",
    "    break"
   ]
  },
  {
   "cell_type": "code",
   "execution_count": null,
   "id": "540620ee-94f7-49ec-8eb2-ed98afc89f18",
   "metadata": {},
   "outputs": [],
   "source": []
  }
 ],
 "metadata": {
  "kernelspec": {
   "display_name": "Python (tfl-api)",
   "language": "python",
   "name": "tfl-api"
  },
  "language_info": {
   "codemirror_mode": {
    "name": "ipython",
    "version": 3
   },
   "file_extension": ".py",
   "mimetype": "text/x-python",
   "name": "python",
   "nbconvert_exporter": "python",
   "pygments_lexer": "ipython3",
   "version": "3.13.1"
  }
 },
 "nbformat": 4,
 "nbformat_minor": 5
}
